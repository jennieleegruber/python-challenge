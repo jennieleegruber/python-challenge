import csv
import os

poll = "Resources/election_data.csv"

with open (poll) as csvfile:
    poll = csv.reader(csvfile, delimiter=",")
    next(poll)

    #create an array to tally votes counts for each candidate
    votes = []
    #create a variable to tally all instances of a voter ID in the datafile
    total_votes = 0
    #Go to the 'Voter ID' column in the data set. For each row in the csvreader, assign a count of one to each candidate
    for votes in csvfile:
        total_votes = total_votes + 1
    
    #Create a dictonary that calls out the number of votes associated with each unique candidate
    name = []
    candidate = {}
    #Go to the 'Candidate' column in the csv reader. For each unique canidate name, tally the number of voter IDs (column[0]) associated with their name (column[2])
    for name in csvfile:
        candidate.append(votes[2])
    
    #creates an array that stores the percent o votes for each candidate
    percent = []
    for candidates in csvfile:
        percent = float(((candidate.append(votes[2]))/total_votes)*100)
    
    
print("Election Results")
print("Total votes : "+str(total_votes)
for name in candidate:
    print(f"{candidate}: {percent}.000% ({votes})")
winner = {candidate: 0}
for name in str(candidate):
    if candidate(votes[2]) > winner(votes[2]):
        winner = candidate
print(f"Winner: {winner}")
      
f = open(poll.txt, 'w')
print("Election Results", file=f)
print("Total votes : "+str(total_votes), file=f)
for name in candidate:
    print(f"{candidate}: {percent}.000% ({votes})", file=f)
winner = {candidate: 0}
for name in str(candidate):
    if candidate(votes[2]) > winner(votes[2]):
        winner = candidate
print(f"Winner: {winner}", file=f)
f.close()

